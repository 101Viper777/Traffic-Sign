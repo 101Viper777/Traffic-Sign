{
 "cells": [
  {
   "cell_type": "code",
   "execution_count": 3,
   "metadata": {},
   "outputs": [],
   "source": [
    "!source yolo/bin/activate"
   ]
  },
  {
   "cell_type": "code",
   "execution_count": null,
   "metadata": {},
   "outputs": [],
   "source": [
    "%pip install ultralytics"
   ]
  },
  {
   "cell_type": "code",
   "execution_count": 7,
   "metadata": {},
   "outputs": [
    {
     "ename": "ModuleNotFoundError",
     "evalue": "No module named 'ultralytics'",
     "output_type": "error",
     "traceback": [
      "\u001b[0;31m---------------------------------------------------------------------------\u001b[0m",
      "\u001b[0;31mModuleNotFoundError\u001b[0m                       Traceback (most recent call last)",
      "\u001b[1;32m/Users/abdul/Documents/Traffic Sign/yolo.ipynb Cell 2\u001b[0m line \u001b[0;36m1\n\u001b[0;32m----> <a href='vscode-notebook-cell:/Users/abdul/Documents/Traffic%20Sign/yolo.ipynb#W1sZmlsZQ%3D%3D?line=0'>1</a>\u001b[0m \u001b[39mfrom\u001b[39;00m \u001b[39multralytics\u001b[39;00m \u001b[39mimport\u001b[39;00m YOLO\n\u001b[1;32m      <a href='vscode-notebook-cell:/Users/abdul/Documents/Traffic%20Sign/yolo.ipynb#W1sZmlsZQ%3D%3D?line=2'>3</a>\u001b[0m \u001b[39m# Load a model\u001b[39;00m\n\u001b[1;32m      <a href='vscode-notebook-cell:/Users/abdul/Documents/Traffic%20Sign/yolo.ipynb#W1sZmlsZQ%3D%3D?line=3'>4</a>\u001b[0m model \u001b[39m=\u001b[39m YOLO(\u001b[39m\"\u001b[39m\u001b[39myolov8n.yaml\u001b[39m\u001b[39m\"\u001b[39m)  \u001b[39m# build a new model from scratch\u001b[39;00m\n",
      "\u001b[0;31mModuleNotFoundError\u001b[0m: No module named 'ultralytics'"
     ]
    }
   ],
   "source": [
    "from ultralytics import YOLO\n",
    "\n",
    "# Load a model\n",
    "model = YOLO(\"yolov8n.yaml\")  # build a new model from scratch\n",
    "model = YOLO(\"yolov8n.pt\")  # load a pretrained model (recommended for training)\n",
    "\n",
    "# Use the model\n",
    "model.train(data=\"coco128.yaml\", epochs=3)  # train the model\n",
    "metrics = model.val()  # evaluate model performance on the validation set\n",
    "results = model(\"https://ultralytics.com/images/bus.jpg\")  # predict on an image\n",
    "path = model.export(format=\"onnx\")  # export the model to ONNX format"
   ]
  },
  {
   "cell_type": "code",
   "execution_count": 3,
   "metadata": {},
   "outputs": [],
   "source": [
    "import os\n",
    "import shutil\n",
    "import random\n",
    "\n",
    "data_dir = \"ts/ts\"\n",
    "train_dir = os.path.join(data_dir, \"train\")\n",
    "val_dir = os.path.join(data_dir, \"val\")\n",
    "\n",
    "# Create train and val directories if they don't exist\n",
    "for folder in [train_dir, val_dir]:\n",
    "    os.makedirs(folder, exist_ok=True)\n",
    "\n",
    "# Get list of all image files\n",
    "images = [f for f in os.listdir(data_dir) if f.endswith(\".jpg\")]\n",
    "random.shuffle(images)\n",
    "\n",
    "# Split into train and val sets (80/20 split as an example)\n",
    "split = int(0.8 * len(images))\n",
    "train_images = images[:split]\n",
    "val_images = images[split:]\n",
    "\n",
    "# Copy images and corresponding label files to train and val directories\n",
    "for img_set, output_dir in zip([train_images, val_images], [train_dir, val_dir]):\n",
    "    for img in img_set:\n",
    "        shutil.copy(os.path.join(data_dir, img), os.path.join(output_dir, img))\n",
    "        label_file = img.replace(\".jpg\", \".txt\")\n",
    "        shutil.copy(os.path.join(data_dir, label_file), os.path.join(output_dir, label_file))\n"
   ]
  },
  {
   "cell_type": "code",
   "execution_count": 8,
   "metadata": {},
   "outputs": [],
   "source": [
    "%load_ext tensorboard"
   ]
  },
  {
   "cell_type": "code",
   "execution_count": 9,
   "metadata": {},
   "outputs": [
    {
     "data": {
      "text/html": [
       "\n",
       "      <iframe id=\"tensorboard-frame-bb9a6a6f983dddfa\" width=\"100%\" height=\"800\" frameborder=\"0\">\n",
       "      </iframe>\n",
       "      <script>\n",
       "        (function() {\n",
       "          const frame = document.getElementById(\"tensorboard-frame-bb9a6a6f983dddfa\");\n",
       "          const url = new URL(\"/\", window.location);\n",
       "          const port = 6000;\n",
       "          if (port) {\n",
       "            url.port = port;\n",
       "          }\n",
       "          frame.src = url;\n",
       "        })();\n",
       "      </script>\n",
       "    "
      ],
      "text/plain": [
       "<IPython.core.display.HTML object>"
      ]
     },
     "metadata": {},
     "output_type": "display_data"
    }
   ],
   "source": [
    "%tensorboard --logdir runs --port 6000\n"
   ]
  },
  {
   "cell_type": "markdown",
   "metadata": {},
   "source": [
    "# test"
   ]
  },
  {
   "cell_type": "code",
   "execution_count": 5,
   "metadata": {},
   "outputs": [
    {
     "name": "stderr",
     "output_type": "stream",
     "text": [
      "/Users/abdul/Library/Python/3.9/lib/python/site-packages/urllib3/__init__.py:34: NotOpenSSLWarning: urllib3 v2.0 only supports OpenSSL 1.1.1+, currently the 'ssl' module is compiled with 'LibreSSL 2.8.3'. See: https://github.com/urllib3/urllib3/issues/3020\n",
      "  warnings.warn(\n"
     ]
    }
   ],
   "source": [
    "import ultralytics\n",
    "from ultralytics import YOLO"
   ]
  },
  {
   "cell_type": "code",
   "execution_count": 6,
   "metadata": {},
   "outputs": [],
   "source": [
    "model = YOLO(\"yolov8x.pt\") \n"
   ]
  },
  {
   "cell_type": "code",
   "execution_count": 7,
   "metadata": {},
   "outputs": [
    {
     "name": "stderr",
     "output_type": "stream",
     "text": [
      "Ultralytics YOLOv8.0.203 🚀 Python-3.9.6 torch-2.1.0 CPU (Apple M2)\n",
      "Setup complete ✅ (8 CPUs, 8.0 GB RAM, 211.5/228.3 GB disk)\n"
     ]
    }
   ],
   "source": [
    "ultralytics.checks()\n"
   ]
  },
  {
   "cell_type": "code",
   "execution_count": 12,
   "metadata": {},
   "outputs": [],
   "source": [
    "!mkdir datasets\n",
    "!mkdir datasets/train\n",
    "!mkdir datasets/valid\n",
    "!mkdir datasets/test\n",
    "\n",
    "train_path='datasets/train/'\n",
    "valid_path='datasets/valid/'\n",
    "test_path='datasets/test/'"
   ]
  },
  {
   "cell_type": "code",
   "execution_count": 16,
   "metadata": {},
   "outputs": [
    {
     "name": "stdout",
     "output_type": "stream",
     "text": [
      "600\n",
      "[437, 314, 194, 534, 538, 108, 263, 82, 567, 528, 442, 433, 23, 326, 415, 577, 417, 97, 88, 239, 354, 100, 235, 31, 443, 40, 28, 587, 242, 3, 1, 271, 257, 419, 238, 518, 468, 413, 544, 230, 47, 87, 531, 52, 74, 492, 508, 180, 171, 237, 406, 457, 11, 68, 458, 21, 98, 593, 559, 430, 411, 147, 241, 292, 309, 211, 149, 236, 402, 337, 358, 487, 80, 120, 486, 352, 134, 67, 269, 106, 357, 27, 59, 274, 119, 273, 553, 575, 344, 205, 101, 279, 212, 2, 501, 470, 224, 125, 566, 407, 18, 208, 529, 494, 369, 542, 387, 156, 215, 296, 505, 30, 93, 139, 576, 102, 397, 5, 216, 164, 165, 490, 166, 254, 361, 64, 62, 233, 129, 323, 293, 86, 502, 124, 155, 198, 527, 471, 262, 368, 370, 510, 345, 288, 306, 500, 199, 99, 186, 127, 22, 395, 158, 488, 598, 346, 585, 10, 472, 153, 161, 305, 526, 210, 248, 473, 373, 506, 485, 327, 536, 261, 301, 379, 58, 232, 380, 96, 179, 123, 481, 42, 60, 317, 13, 535, 303, 525, 94, 190, 315, 328, 63, 359, 51, 118, 555, 115, 556, 410, 421, 590, 220, 441, 65, 475, 12, 9, 333, 570, 55, 399, 57, 24, 150, 524, 89, 104, 522, 348, 8, 477, 25, 573, 375, 378, 595, 451, 498, 253, 289, 249, 223, 572, 196, 586, 137, 197, 95, 565, 400, 449, 154, 32, 382, 75, 54, 339, 163, 290, 265, 209, 362, 203, 299, 29, 493, 428, 281, 412, 594, 107, 132, 432, 214, 207, 546, 509, 225, 404, 516, 418, 408, 195, 36, 81, 308, 325, 142, 276, 173, 427, 386, 144, 503, 389, 229, 69, 467, 394, 275, 581, 56, 245, 298, 398, 92, 584, 14, 71, 512, 91, 285, 371, 547, 126, 90, 200, 342, 324, 353, 221, 574, 183, 482, 302, 247, 514, 76, 185, 424, 145, 46, 103, 349, 435, 436, 39, 580, 191, 444, 541, 521, 489, 445, 383, 539, 234, 338, 310, 157, 480, 405, 563, 168, 496, 507, 543, 313, 295, 377, 455, 140, 554, 37, 78, 550, 72, 469, 38, 597, 374, 579, 121, 388, 460, 571, 282, 519, 320, 17, 85, 341, 452, 176, 533, 304, 122, 551, 19, 79, 53, 431, 270, 332, 511, 61, 495, 429, 109, 159, 131, 381, 170, 331, 204, 34, 355, 393, 367, 316, 167, 484, 143, 448, 562, 193, 218, 70, 532, 322, 461, 561, 335, 189, 255, 151, 178, 44, 228]\n",
      "[73, 426, 364, 401, 311, 110, 340, 356, 366, 136, 50, 438, 267, 334, 187, 219, 409, 250, 201, 578, 128, 112, 307, 504, 440, 294, 454, 291, 446, 48, 6, 390, 188, 260, 152, 287, 319, 596, 141, 264, 138, 523, 557, 26, 321, 202, 425, 420, 113, 483, 363, 499, 278, 347, 548, 465, 286, 66, 35, 569, 4, 464, 517, 414, 530, 135, 182, 192, 330, 160, 272, 16, 552, 336, 583, 351, 116, 20, 396, 462, 41, 266, 226, 146, 258, 423, 240, 312, 33, 560, 447, 148, 244, 478, 162, 376, 259, 130, 391, 251, 439, 256, 252, 297, 549, 497, 434, 15, 392, 111, 0, 479, 7, 49, 564, 372, 77, 422, 172, 463]\n",
      "[582, 403, 43, 280, 450, 175, 568, 599, 227, 491, 268, 558, 105, 318, 459, 466, 453, 184, 277, 181, 206, 365, 329, 217, 246, 300, 174, 133, 592, 545, 515, 589, 513, 591, 540, 456, 83, 537, 213, 284, 177, 520, 283, 114, 117, 222, 343, 474, 350, 384, 360, 416, 84, 385, 45, 588, 231, 243, 476, 169]\n"
     ]
    }
   ],
   "source": [
    "import os\n",
    "import random\n",
    "\n",
    "ano_paths=[]\n",
    "for dirname, _, filenames in os.walk('ts/ts'):\n",
    "    for filename in filenames:\n",
    "        ano_paths+=[(os.path.join(dirname, filename))]\n",
    "        \n",
    "n=600#len(ano_paths) \n",
    "print(n)\n",
    "N=list(range(n))\n",
    "random.shuffle(N)\n",
    "\n",
    "train_ratio = 0.7\n",
    "valid_ratio = 0.2\n",
    "test_ratio = 0.1\n",
    "\n",
    "train_size = int(train_ratio*n)\n",
    "valid_size = int(valid_ratio*n)\n",
    "\n",
    "train_i = N[:train_size]\n",
    "valid_i = N[train_size:train_size+valid_size]\n",
    "test_i = N[train_size+valid_size:]\n",
    "\n",
    "print(train_i)\n",
    "print(valid_i)\n",
    "print(test_i)"
   ]
  },
  {
   "cell_type": "code",
   "execution_count": 1,
   "metadata": {},
   "outputs": [
    {
     "name": "stdout",
     "output_type": "stream",
     "text": [
      "{names: [prohibitor, danger, mandatory, other], nc: 4, test: test, train: train, val: valid}\n"
     ]
    }
   ],
   "source": [
    "import yaml\n",
    "\n",
    "data_yaml = dict(\n",
    "    train ='train',\n",
    "    val ='valid',\n",
    "    test='test',\n",
    "    nc =4,\n",
    "    names =['prohibitor','danger','mandatory','other']\n",
    ")\n",
    "\n",
    "with open('data.yaml', 'w') as outfile:\n",
    "    yaml.dump(data_yaml, outfile, default_flow_style=True)\n",
    "    \n",
    "%cat data.yaml"
   ]
  },
  {
   "cell_type": "code",
   "execution_count": 2,
   "metadata": {},
   "outputs": [],
   "source": [
    "names =['prohibitor','danger','mandatory','other']\n",
    "M=list(range(len(names)))\n",
    "class_map=dict(zip(M,names))"
   ]
  },
  {
   "cell_type": "code",
   "execution_count": 2,
   "metadata": {},
   "outputs": [
    {
     "name": "stdout",
     "output_type": "stream",
     "text": [
      "/Users/abdul/Library/Python/3.9/lib/python/site-packages/urllib3/__init__.py:34: NotOpenSSLWarning: urllib3 v2.0 only supports OpenSSL 1.1.1+, currently the 'ssl' module is compiled with 'LibreSSL 2.8.3'. See: https://github.com/urllib3/urllib3/issues/3020\n",
      "  warnings.warn(\n",
      "Ultralytics YOLOv8.0.203 🚀 Python-3.9.6 torch-2.1.0 CPU (Apple M2)\n",
      "\u001b[34m\u001b[1mengine/trainer: \u001b[0mtask=detect, mode=train, model=yolov8x.pt, data=data.yaml, epochs=12, patience=50, batch=16, imgsz=480, save=True, save_period=-1, cache=False, device=None, workers=8, project=None, name=train3, exist_ok=False, pretrained=True, optimizer=auto, verbose=True, seed=0, deterministic=True, single_cls=False, rect=False, cos_lr=False, close_mosaic=10, resume=False, amp=True, fraction=1.0, profile=False, freeze=None, overlap_mask=True, mask_ratio=4, dropout=0.0, val=True, split=val, save_json=False, save_hybrid=False, conf=None, iou=0.7, max_det=300, half=False, dnn=False, plots=True, source=None, show=False, save_txt=False, save_conf=False, save_crop=False, show_labels=True, show_conf=True, vid_stride=1, stream_buffer=False, line_width=None, visualize=False, augment=False, agnostic_nms=False, classes=None, retina_masks=False, boxes=True, format=torchscript, keras=False, optimize=False, int8=False, dynamic=False, simplify=False, opset=None, workspace=4, nms=False, lr0=0.01, lrf=0.01, momentum=0.937, weight_decay=0.0005, warmup_epochs=3.0, warmup_momentum=0.8, warmup_bias_lr=0.1, box=7.5, cls=0.5, dfl=1.5, pose=12.0, kobj=1.0, label_smoothing=0.0, nbs=64, hsv_h=0.015, hsv_s=0.7, hsv_v=0.4, degrees=0.0, translate=0.1, scale=0.5, shear=0.0, perspective=0.0, flipud=0.0, fliplr=0.5, mosaic=1.0, mixup=0.0, copy_paste=0.0, cfg=None, tracker=botsort.yaml, save_dir=runs/detect/train3\n",
      "Overriding model.yaml nc=80 with nc=4\n",
      "\n",
      "                   from  n    params  module                                       arguments                     \n",
      "  0                  -1  1      2320  ultralytics.nn.modules.conv.Conv             [3, 80, 3, 2]                 \n",
      "  1                  -1  1    115520  ultralytics.nn.modules.conv.Conv             [80, 160, 3, 2]               \n",
      "  2                  -1  3    436800  ultralytics.nn.modules.block.C2f             [160, 160, 3, True]           \n",
      "  3                  -1  1    461440  ultralytics.nn.modules.conv.Conv             [160, 320, 3, 2]              \n",
      "  4                  -1  6   3281920  ultralytics.nn.modules.block.C2f             [320, 320, 6, True]           \n",
      "  5                  -1  1   1844480  ultralytics.nn.modules.conv.Conv             [320, 640, 3, 2]              \n",
      "  6                  -1  6  13117440  ultralytics.nn.modules.block.C2f             [640, 640, 6, True]           \n",
      "  7                  -1  1   3687680  ultralytics.nn.modules.conv.Conv             [640, 640, 3, 2]              \n",
      "  8                  -1  3   6969600  ultralytics.nn.modules.block.C2f             [640, 640, 3, True]           \n",
      "  9                  -1  1   1025920  ultralytics.nn.modules.block.SPPF            [640, 640, 5]                 \n",
      " 10                  -1  1         0  torch.nn.modules.upsampling.Upsample         [None, 2, 'nearest']          \n",
      " 11             [-1, 6]  1         0  ultralytics.nn.modules.conv.Concat           [1]                           \n",
      " 12                  -1  3   7379200  ultralytics.nn.modules.block.C2f             [1280, 640, 3]                \n",
      " 13                  -1  1         0  torch.nn.modules.upsampling.Upsample         [None, 2, 'nearest']          \n",
      " 14             [-1, 4]  1         0  ultralytics.nn.modules.conv.Concat           [1]                           \n",
      " 15                  -1  3   1948800  ultralytics.nn.modules.block.C2f             [960, 320, 3]                 \n",
      " 16                  -1  1    922240  ultralytics.nn.modules.conv.Conv             [320, 320, 3, 2]              \n",
      " 17            [-1, 12]  1         0  ultralytics.nn.modules.conv.Concat           [1]                           \n",
      " 18                  -1  3   7174400  ultralytics.nn.modules.block.C2f             [960, 640, 3]                 \n",
      " 19                  -1  1   3687680  ultralytics.nn.modules.conv.Conv             [640, 640, 3, 2]              \n",
      " 20             [-1, 9]  1         0  ultralytics.nn.modules.conv.Concat           [1]                           \n",
      " 21                  -1  3   7379200  ultralytics.nn.modules.block.C2f             [1280, 640, 3]                \n",
      " 22        [15, 18, 21]  1   8721820  ultralytics.nn.modules.head.Detect           [4, [320, 640, 640]]          \n",
      "Model summary: 365 layers, 68156460 parameters, 68156444 gradients, 258.1 GFLOPs\n",
      "\n",
      "Transferred 589/595 items from pretrained weights\n",
      "\u001b[34m\u001b[1mTensorBoard: \u001b[0mStart with 'tensorboard --logdir runs/detect/train3', view at http://localhost:6006/\n",
      "Freezing layer 'model.22.dfl.conv.weight'\n",
      "\u001b[34m\u001b[1mtrain: \u001b[0mScanning /Users/abdul/Documents/Traffic Sign/datasets/train... 506 images\u001b[0m\n",
      "\u001b[34m\u001b[1mtrain: \u001b[0mWARNING ⚠️ /Users/abdul/Documents/Traffic Sign/datasets/train/00340.jpg: 1 duplicate labels removed\n",
      "\u001b[34m\u001b[1mtrain: \u001b[0mNew cache created: /Users/abdul/Documents/Traffic Sign/datasets/train.cache\n",
      "\u001b[34m\u001b[1mval: \u001b[0mScanning /Users/abdul/Documents/Traffic Sign/datasets/valid... 157 images, \u001b[0m\n",
      "\u001b[34m\u001b[1mval: \u001b[0mNew cache created: /Users/abdul/Documents/Traffic Sign/datasets/valid.cache\n",
      "Plotting labels to runs/detect/train3/labels.jpg... \n",
      "\u001b[34m\u001b[1moptimizer:\u001b[0m 'optimizer=auto' found, ignoring 'lr0=0.01' and 'momentum=0.937' and determining best 'optimizer', 'lr0' and 'momentum' automatically... \n",
      "\u001b[34m\u001b[1moptimizer:\u001b[0m AdamW(lr=0.00125, momentum=0.9) with parameter groups 97 weight(decay=0.0), 104 weight(decay=0.0005), 103 bias(decay=0.0)\n",
      "Image sizes 480 train, 480 val\n",
      "Using 0 dataloader workers\n",
      "Logging results to \u001b[1mruns/detect/train3\u001b[0m\n",
      "Starting training for 12 epochs...\n",
      "\n",
      "      Epoch    GPU_mem   box_loss   cls_loss   dfl_loss  Instances       Size\n",
      "  0%|          | 0/32 [00:00<?, ?it/s]^C\n",
      "  0%|          | 0/32 [00:07<?, ?it/s]\n"
     ]
    }
   ],
   "source": [
    "!yolo task=detect mode=train model=yolov8x.pt data=data.yaml epochs=12 imgsz=480\n"
   ]
  }
 ],
 "metadata": {
  "kernelspec": {
   "display_name": "Python 3",
   "language": "python",
   "name": "python3"
  },
  "language_info": {
   "codemirror_mode": {
    "name": "ipython",
    "version": 3
   },
   "file_extension": ".py",
   "mimetype": "text/x-python",
   "name": "python",
   "nbconvert_exporter": "python",
   "pygments_lexer": "ipython3",
   "version": "3.9.6"
  }
 },
 "nbformat": 4,
 "nbformat_minor": 2
}
